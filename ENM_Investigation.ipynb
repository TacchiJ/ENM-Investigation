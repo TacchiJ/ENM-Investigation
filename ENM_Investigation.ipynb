{
  "nbformat": 4,
  "nbformat_minor": 0,
  "metadata": {
    "colab": {
      "name": "ENM_Investigation.ipynb",
      "provenance": [],
      "collapsed_sections": [],
      "include_colab_link": true
    },
    "kernelspec": {
      "name": "python3",
      "display_name": "Python 3"
    }
  },
  "cells": [
    {
      "cell_type": "markdown",
      "metadata": {
        "id": "view-in-github",
        "colab_type": "text"
      },
      "source": [
        "<a href=\"https://colab.research.google.com/github/TacchiJ/ENM-Investigation/blob/master/ENM_Investigation.ipynb\" target=\"_parent\"><img src=\"https://colab.research.google.com/assets/colab-badge.svg\" alt=\"Open In Colab\"/></a>"
      ]
    },
    {
      "cell_type": "markdown",
      "metadata": {
        "id": "OOOOeTQOf9Qb",
        "colab_type": "text"
      },
      "source": [
        "### Imports"
      ]
    },
    {
      "cell_type": "code",
      "metadata": {
        "id": "IuCrRC_-YlmB",
        "colab_type": "code",
        "colab": {}
      },
      "source": [
        "import os\n",
        "import tweepy\n",
        "\n",
        "import pandas as pd"
      ],
      "execution_count": 1,
      "outputs": []
    },
    {
      "cell_type": "markdown",
      "metadata": {
        "id": "Nwnz5lelZN9G",
        "colab_type": "text"
      },
      "source": [
        "### Authorization"
      ]
    },
    {
      "cell_type": "code",
      "metadata": {
        "id": "71SCgx8AYnOH",
        "colab_type": "code",
        "colab": {}
      },
      "source": [
        "credentials = dict(pd.read_csv('private/credentials.csv', low_memory=False))\n",
        "\n",
        "key = credentials['TWITTER_KEY'][0]\n",
        "secret_key = credentials['TWITTER_SECRET_KEY'][0]\n",
        "access_token = credentials['TWITTER_ACCESS_TOKEN'][0]\n",
        "access_token_secret = credentials['TWITTER_ACCESS_TOKEN_SECRET'][0]"
      ],
      "execution_count": 2,
      "outputs": []
    },
    {
      "cell_type": "code",
      "metadata": {
        "id": "wM0m6_PTZR0-",
        "colab_type": "code",
        "colab": {}
      },
      "source": [
        "auth = tweepy.OAuthHandler(key, secret_key)\n",
        "auth.set_access_token(access_token, access_token_secret)\n",
        "api = tweepy.API(auth, wait_on_rate_limit=True, wait_on_rate_limit_notify=True)"
      ],
      "execution_count": 3,
      "outputs": []
    },
    {
      "cell_type": "markdown",
      "metadata": {
        "id": "nUtusG7cgIQ4",
        "colab_type": "text"
      },
      "source": [
        "### API"
      ]
    },
    {
      "cell_type": "code",
      "metadata": {
        "id": "FCHfdL_TgJOD",
        "colab_type": "code",
        "colab": {}
      },
      "source": [
        "columns=['query', 'user', 'text', 'date', 'location', 'link']\n",
        "\n",
        "def get_tweets(query, n=10, lang='en'):\n",
        "    tweets = []\n",
        "    for tweet in api.search(q=query, count=n, lang=lang):\n",
        "        data = {columns[0]: query,\n",
        "                columns[1]: tweet.user.name,\n",
        "                columns[2]: tweet.text,\n",
        "                columns[3]: tweet.created_at,\n",
        "                columns[4]: tweet.user.location,\n",
        "                columns[5]: f\"https://twitter.com/{tweet.user.id}/status/{tweet.id}\"}\n",
        "        tweets.append(data)\n",
        "    return tweets"
      ],
      "execution_count": 5,
      "outputs": []
    },
    {
      "cell_type": "code",
      "metadata": {
        "id": "vO7b_XQegJoX",
        "colab_type": "code",
        "colab": {
          "base_uri": "https://localhost:8080/",
          "height": 407
        },
        "outputId": "49a04951-96ec-4ca7-a26e-b8ddbb79d206"
      },
      "source": [
        "queries = ['corona', 'virus', 'washing hands', 'doctor', 'hospital', 'government']\n",
        "max_tweets = 100\n",
        "tweet_df = pd.DataFrame(get_tweets(queries[0], max_tweets))\n",
        "for query in queries[1:]:\n",
        "    tweets = get_tweets(query, max_tweets)\n",
        "    tweet_df = tweet_df.append(tweets)\n",
        "tweet_df"
      ],
      "execution_count": 6,
      "outputs": [
        {
          "output_type": "execute_result",
          "data": {
            "text/html": [
              "<div>\n",
              "<style scoped>\n",
              "    .dataframe tbody tr th:only-of-type {\n",
              "        vertical-align: middle;\n",
              "    }\n",
              "\n",
              "    .dataframe tbody tr th {\n",
              "        vertical-align: top;\n",
              "    }\n",
              "\n",
              "    .dataframe thead th {\n",
              "        text-align: right;\n",
              "    }\n",
              "</style>\n",
              "<table border=\"1\" class=\"dataframe\">\n",
              "  <thead>\n",
              "    <tr style=\"text-align: right;\">\n",
              "      <th></th>\n",
              "      <th>query</th>\n",
              "      <th>user</th>\n",
              "      <th>text</th>\n",
              "      <th>date</th>\n",
              "      <th>location</th>\n",
              "      <th>link</th>\n",
              "    </tr>\n",
              "  </thead>\n",
              "  <tbody>\n",
              "    <tr>\n",
              "      <th>0</th>\n",
              "      <td>corona</td>\n",
              "      <td>Jamisson</td>\n",
              "      <td>RT @EnzDeQuay: corona leaving when it hits 12A...</td>\n",
              "      <td>2020-09-17 05:19:20</td>\n",
              "      <td></td>\n",
              "      <td>https://twitter.com/244912568/status/130646272...</td>\n",
              "    </tr>\n",
              "    <tr>\n",
              "      <th>1</th>\n",
              "      <td>corona</td>\n",
              "      <td>re-how.net</td>\n",
              "      <td>Chatwork Co., Ltd .: News Release Chatwork Ann...</td>\n",
              "      <td>2020-09-17 05:19:20</td>\n",
              "      <td></td>\n",
              "      <td>https://twitter.com/1107455939089567746/status...</td>\n",
              "    </tr>\n",
              "    <tr>\n",
              "      <th>2</th>\n",
              "      <td>corona</td>\n",
              "      <td>GURCHARAN SINGH</td>\n",
              "      <td>RT @DaaruBaazMehta: MUST WATCH\\n\\nAAP MP @Sanj...</td>\n",
              "      <td>2020-09-17 05:19:20</td>\n",
              "      <td></td>\n",
              "      <td>https://twitter.com/3000661788/status/13064627...</td>\n",
              "    </tr>\n",
              "    <tr>\n",
              "      <th>3</th>\n",
              "      <td>corona</td>\n",
              "      <td>Dinesh yadav</td>\n",
              "      <td>RT @Sandeepnewsman: What made you unemployed? ...</td>\n",
              "      <td>2020-09-17 05:19:19</td>\n",
              "      <td></td>\n",
              "      <td>https://twitter.com/1300662433338384384/status...</td>\n",
              "    </tr>\n",
              "    <tr>\n",
              "      <th>4</th>\n",
              "      <td>corona</td>\n",
              "      <td>Dr. Satyam Dwivedi</td>\n",
              "      <td>RT @AbhishBanerj: Today Kerala has surpassed G...</td>\n",
              "      <td>2020-09-17 05:19:19</td>\n",
              "      <td></td>\n",
              "      <td>https://twitter.com/69826286/status/1306462716...</td>\n",
              "    </tr>\n",
              "    <tr>\n",
              "      <th>...</th>\n",
              "      <td>...</td>\n",
              "      <td>...</td>\n",
              "      <td>...</td>\n",
              "      <td>...</td>\n",
              "      <td>...</td>\n",
              "      <td>...</td>\n",
              "    </tr>\n",
              "    <tr>\n",
              "      <th>95</th>\n",
              "      <td>government</td>\n",
              "      <td>Janiroquoi</td>\n",
              "      <td>RT @theheraldsun: Opposition Leader Michael O’...</td>\n",
              "      <td>2020-09-17 05:19:16</td>\n",
              "      <td></td>\n",
              "      <td>https://twitter.com/1260080962630676483/status...</td>\n",
              "    </tr>\n",
              "    <tr>\n",
              "      <th>96</th>\n",
              "      <td>government</td>\n",
              "      <td>Adam Weir</td>\n",
              "      <td>RT @StuartaCat: NZ Government has done an amaz...</td>\n",
              "      <td>2020-09-17 05:19:16</td>\n",
              "      <td>Welly</td>\n",
              "      <td>https://twitter.com/558281975/status/130646270...</td>\n",
              "    </tr>\n",
              "    <tr>\n",
              "      <th>97</th>\n",
              "      <td>government</td>\n",
              "      <td>Udham</td>\n",
              "      <td>RT @naved_raza_55: \"Remove Privatization \\nSav...</td>\n",
              "      <td>2020-09-17 05:19:16</td>\n",
              "      <td></td>\n",
              "      <td>https://twitter.com/1280463424971927553/status...</td>\n",
              "    </tr>\n",
              "    <tr>\n",
              "      <th>98</th>\n",
              "      <td>government</td>\n",
              "      <td>Manx Maid</td>\n",
              "      <td>RT @BylineTimes: Government Awards £122 Millio...</td>\n",
              "      <td>2020-09-17 05:19:16</td>\n",
              "      <td></td>\n",
              "      <td>https://twitter.com/984498474/status/130646270...</td>\n",
              "    </tr>\n",
              "    <tr>\n",
              "      <th>99</th>\n",
              "      <td>government</td>\n",
              "      <td>john joy</td>\n",
              "      <td>RT @dotty_dorca: Justice Samuel Okong’o had is...</td>\n",
              "      <td>2020-09-17 05:19:16</td>\n",
              "      <td></td>\n",
              "      <td>https://twitter.com/3290924393/status/13064627...</td>\n",
              "    </tr>\n",
              "  </tbody>\n",
              "</table>\n",
              "<p>600 rows × 6 columns</p>\n",
              "</div>"
            ],
            "text/plain": [
              "         query  ...                                               link\n",
              "0       corona  ...  https://twitter.com/244912568/status/130646272...\n",
              "1       corona  ...  https://twitter.com/1107455939089567746/status...\n",
              "2       corona  ...  https://twitter.com/3000661788/status/13064627...\n",
              "3       corona  ...  https://twitter.com/1300662433338384384/status...\n",
              "4       corona  ...  https://twitter.com/69826286/status/1306462716...\n",
              "..         ...  ...                                                ...\n",
              "95  government  ...  https://twitter.com/1260080962630676483/status...\n",
              "96  government  ...  https://twitter.com/558281975/status/130646270...\n",
              "97  government  ...  https://twitter.com/1280463424971927553/status...\n",
              "98  government  ...  https://twitter.com/984498474/status/130646270...\n",
              "99  government  ...  https://twitter.com/3290924393/status/13064627...\n",
              "\n",
              "[600 rows x 6 columns]"
            ]
          },
          "metadata": {
            "tags": []
          },
          "execution_count": 6
        }
      ]
    },
    {
      "cell_type": "code",
      "metadata": {
        "id": "s9Dss8-JgMAr",
        "colab_type": "code",
        "colab": {}
      },
      "source": [
        ""
      ],
      "execution_count": null,
      "outputs": []
    }
  ]
}