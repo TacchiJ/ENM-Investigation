{
  "nbformat": 4,
  "nbformat_minor": 0,
  "metadata": {
    "colab": {
      "name": "ENM_Investigation.ipynb",
      "provenance": [],
      "collapsed_sections": [],
      "toc_visible": true,
      "include_colab_link": true
    },
    "kernelspec": {
      "name": "python3",
      "display_name": "Python 3"
    }
  },
  "cells": [
    {
      "cell_type": "markdown",
      "metadata": {
        "id": "view-in-github",
        "colab_type": "text"
      },
      "source": [
        "<a href=\"https://colab.research.google.com/github/TacchiJ/ENM-Investigation/blob/master/ENM_Investigation.ipynb\" target=\"_parent\"><img src=\"https://colab.research.google.com/assets/colab-badge.svg\" alt=\"Open In Colab\"/></a>"
      ]
    },
    {
      "cell_type": "code",
      "metadata": {
        "id": "IuCrRC_-YlmB",
        "colab_type": "code",
        "colab": {}
      },
      "source": [
        "import os\n",
        "import tweepy\n",
        "\n",
        "import pandas as pd"
      ],
      "execution_count": 1,
      "outputs": []
    },
    {
      "cell_type": "markdown",
      "metadata": {
        "id": "Nwnz5lelZN9G",
        "colab_type": "text"
      },
      "source": [
        "### Authorization"
      ]
    },
    {
      "cell_type": "code",
      "metadata": {
        "id": "71SCgx8AYnOH",
        "colab_type": "code",
        "colab": {}
      },
      "source": [
        "credentials = dict(pd.read_csv('private/credentials.csv', low_memory=False))\n",
        "\n",
        "key = credentials['TWITTER_KEY'][0]\n",
        "secret_key = credentials['TWITTER_SECRET_KEY'][0]\n",
        "access_token = credentials['TWITTER_ACCESS_TOKEN'][0]\n",
        "access_token_secret = credentials['TWITTER_ACCESS_TOKEN_SECRET'][0]"
      ],
      "execution_count": 2,
      "outputs": []
    },
    {
      "cell_type": "code",
      "metadata": {
        "id": "wM0m6_PTZR0-",
        "colab_type": "code",
        "colab": {}
      },
      "source": [
        "auth = tweepy.OAuthHandler(key, secret_key)\n",
        "auth.set_access_token(access_token, access_token_secret)\n",
        "api = tweepy.API(auth, wait_on_rate_limit=True, wait_on_rate_limit_notify=True)"
      ],
      "execution_count": 3,
      "outputs": []
    },
    {
      "cell_type": "code",
      "metadata": {
        "id": "QGijQ3UdZSKP",
        "colab_type": "code",
        "colab": {
          "base_uri": "https://localhost:8080/",
          "height": 35
        },
        "outputId": "3aab66dd-2bdc-49f1-d46f-baa08fbc207f"
      },
      "source": [
        "auth"
      ],
      "execution_count": 4,
      "outputs": [
        {
          "output_type": "execute_result",
          "data": {
            "text/plain": [
              "<tweepy.auth.OAuthHandler at 0x7eff90f5b748>"
            ]
          },
          "metadata": {
            "tags": []
          },
          "execution_count": 4
        }
      ]
    }
  ]
}